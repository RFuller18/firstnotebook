{
 "cells": [
  {
   "cell_type": "markdown",
   "id": "2e553a52",
   "metadata": {},
   "source": [
    "# Data Science Tools and Ecosystem"
   ]
  },
  {
   "cell_type": "markdown",
   "id": "60f62366",
   "metadata": {},
   "source": [
    "This note book summarizes Data Science Tools and Ecosystem."
   ]
  },
  {
   "cell_type": "markdown",
   "id": "9702c164",
   "metadata": {},
   "source": [
    "**Objectives:**\n",
    "- List of popluar Data Science Languages\n",
    "- Libraries used in Data Science\n",
    "-  List of Common Data Science Tools\n",
    "- Arethmatic Expression"
   ]
  },
  {
   "cell_type": "markdown",
   "id": "5663dacd",
   "metadata": {},
   "source": [
    "A list of some popular Data Science languages:\n",
    "1. Python\n",
    "2. R\n",
    "3. SQL\n",
    "4. Scala\n",
    "5. Java"
   ]
  },
  {
   "cell_type": "markdown",
   "id": "e62bb3eb",
   "metadata": {},
   "source": [
    "The following libraries are currently used in Data Science.\n",
    "1. Pandas\n",
    "2. Numpy\n",
    "3. Matplotlib\n",
    "4. Scikit-learn\n",
    "5. Keras"
   ]
  },
  {
   "cell_type": "markdown",
   "id": "f7ff9894",
   "metadata": {},
   "source": [
    "|Data Science Tools|\n",
    "|:------------------:|\n",
    "| Jupyter |\n",
    "| Jupyter Lab |\n",
    "| Apache Zeppelin |\n",
    "| R Studio |\n",
    "| Spyder |"
   ]
  },
  {
   "cell_type": "markdown",
   "id": "9f8db574",
   "metadata": {},
   "source": [
    "### Below are a several examples of evaluating arithmatic in Python."
   ]
  },
  {
   "cell_type": "code",
   "execution_count": 1,
   "id": "51365dda",
   "metadata": {},
   "outputs": [
    {
     "data": {
      "text/plain": [
       "17"
      ]
     },
     "execution_count": 1,
     "metadata": {},
     "output_type": "execute_result"
    }
   ],
   "source": [
    "# A simple arithmatic expression to multiply then add intergers\n",
    "(3*4)+5"
   ]
  },
  {
   "cell_type": "code",
   "execution_count": 8,
   "id": "39efb103",
   "metadata": {},
   "outputs": [
    {
     "data": {
      "text/plain": [
       "3.3333333333333335"
      ]
     },
     "execution_count": 8,
     "metadata": {},
     "output_type": "execute_result"
    }
   ],
   "source": [
    "# This will convert 200 minutes into hours\n",
    "200/60"
   ]
  },
  {
   "cell_type": "markdown",
   "id": "bfd306eb",
   "metadata": {},
   "source": [
    "## Author\n",
    "Rebecca Fuller"
   ]
  },
  {
   "cell_type": "code",
   "execution_count": null,
   "id": "ed3b64c3",
   "metadata": {},
   "outputs": [],
   "source": []
  }
 ],
 "metadata": {
  "kernelspec": {
   "display_name": "Python 3 (ipykernel)",
   "language": "python",
   "name": "python3"
  },
  "language_info": {
   "codemirror_mode": {
    "name": "ipython",
    "version": 3
   },
   "file_extension": ".py",
   "mimetype": "text/x-python",
   "name": "python",
   "nbconvert_exporter": "python",
   "pygments_lexer": "ipython3",
   "version": "3.11.5"
  }
 },
 "nbformat": 4,
 "nbformat_minor": 5
}
